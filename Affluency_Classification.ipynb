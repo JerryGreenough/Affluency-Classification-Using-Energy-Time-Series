{
 "cells": [
  {
   "cell_type": "markdown",
   "metadata": {},
   "source": [
    "<h2>Data Import</h2>"
   ]
  },
  {
   "cell_type": "code",
   "execution_count": 1,
   "metadata": {},
   "outputs": [],
   "source": [
    "import pandas as pd"
   ]
  },
  {
   "cell_type": "code",
   "execution_count": 2,
   "metadata": {},
   "outputs": [],
   "source": [
    "# Import daily energy consumption totals for all customers with \n",
    "# smart meter readings for 2013 (the 'entire' customers)\n",
    "# into a Pandas dataframe. \n",
    "\n",
    "dfTotal = pd.read_csv(\"./data/DailyTotals.zip\")\n",
    "\n",
    "# Import Acorn designations for all customers.\n",
    "\n",
    "dfAcorn = pd.read_csv(\"./data/entireCustomers.zip\")\n",
    "\n",
    "# Import daily energy consumption totals for all customers with complete \n",
    "# (non NaN) smart meter readings for 2013 (the 'perfect' customers)\n",
    "# into a Pandas dataframe. \n",
    "\n",
    "dfTotalPerfect = pd.read_csv(\"./data/perfectDailyTotals.zip\")\n",
    "\n",
    "# Import Acorn designations for the perfect customers.\n",
    "\n",
    "dfAcornPerfect = pd.read_csv(\"./data/perfectCustomers.zip\")"
   ]
  },
  {
   "cell_type": "markdown",
   "metadata": {},
   "source": [
    "<h2>Initial Inspection of Data</h2>\n",
    "<p>A glimpse at the daily energy consumption totals for the first five\n",
    "customers demonstrates that, contrary to intuition, a higher affluency ranking\n",
    "does not necessarily indicate higher energy consumption.</p>"
   ]
  },
  {
   "cell_type": "code",
   "execution_count": 3,
   "metadata": {},
   "outputs": [
    {
     "data": {
      "text/html": [
       "<div>\n",
       "<style scoped>\n",
       "    .dataframe tbody tr th:only-of-type {\n",
       "        vertical-align: middle;\n",
       "    }\n",
       "\n",
       "    .dataframe tbody tr th {\n",
       "        vertical-align: top;\n",
       "    }\n",
       "\n",
       "    .dataframe thead th {\n",
       "        text-align: right;\n",
       "    }\n",
       "</style>\n",
       "<table border=\"1\" class=\"dataframe\">\n",
       "  <thead>\n",
       "    <tr style=\"text-align: right;\">\n",
       "      <th></th>\n",
       "      <th>id</th>\n",
       "      <th>2013-01-01</th>\n",
       "      <th>2013-01-02</th>\n",
       "      <th>2013-01-03</th>\n",
       "      <th>2013-01-04</th>\n",
       "    </tr>\n",
       "  </thead>\n",
       "  <tbody>\n",
       "    <tr>\n",
       "      <th>0</th>\n",
       "      <td>2</td>\n",
       "      <td>10.800</td>\n",
       "      <td>13.300</td>\n",
       "      <td>10.074</td>\n",
       "      <td>9.857</td>\n",
       "    </tr>\n",
       "    <tr>\n",
       "      <th>1</th>\n",
       "      <td>3</td>\n",
       "      <td>18.734</td>\n",
       "      <td>19.980</td>\n",
       "      <td>23.522</td>\n",
       "      <td>20.949</td>\n",
       "    </tr>\n",
       "    <tr>\n",
       "      <th>2</th>\n",
       "      <td>4</td>\n",
       "      <td>1.753</td>\n",
       "      <td>1.916</td>\n",
       "      <td>1.722</td>\n",
       "      <td>1.747</td>\n",
       "    </tr>\n",
       "    <tr>\n",
       "      <th>3</th>\n",
       "      <td>6</td>\n",
       "      <td>0.500</td>\n",
       "      <td>0.496</td>\n",
       "      <td>0.494</td>\n",
       "      <td>0.495</td>\n",
       "    </tr>\n",
       "    <tr>\n",
       "      <th>4</th>\n",
       "      <td>7</td>\n",
       "      <td>13.171</td>\n",
       "      <td>8.031</td>\n",
       "      <td>9.721</td>\n",
       "      <td>9.821</td>\n",
       "    </tr>\n",
       "  </tbody>\n",
       "</table>\n",
       "</div>"
      ],
      "text/plain": [
       "   id  2013-01-01  2013-01-02  2013-01-03  2013-01-04\n",
       "0   2      10.800      13.300      10.074       9.857\n",
       "1   3      18.734      19.980      23.522      20.949\n",
       "2   4       1.753       1.916       1.722       1.747\n",
       "3   6       0.500       0.496       0.494       0.495\n",
       "4   7      13.171       8.031       9.721       9.821"
      ]
     },
     "execution_count": 3,
     "metadata": {},
     "output_type": "execute_result"
    }
   ],
   "source": [
    "# Let's have a look at the dataframe containing daily energy consumption totals.\n",
    "# In this instance we look at daily energy consumption totals for\n",
    "# the first 5 customers for the first four days of 2013.\n",
    "\n",
    "dfTotal.iloc[:,0:5].head()"
   ]
  },
  {
   "cell_type": "code",
   "execution_count": 4,
   "metadata": {},
   "outputs": [
    {
     "data": {
      "text/html": [
       "<div>\n",
       "<style scoped>\n",
       "    .dataframe tbody tr th:only-of-type {\n",
       "        vertical-align: middle;\n",
       "    }\n",
       "\n",
       "    .dataframe tbody tr th {\n",
       "        vertical-align: top;\n",
       "    }\n",
       "\n",
       "    .dataframe thead th {\n",
       "        text-align: right;\n",
       "    }\n",
       "</style>\n",
       "<table border=\"1\" class=\"dataframe\">\n",
       "  <thead>\n",
       "    <tr style=\"text-align: right;\">\n",
       "      <th></th>\n",
       "      <th>id</th>\n",
       "      <th>acorn</th>\n",
       "      <th>acorn-grouped</th>\n",
       "    </tr>\n",
       "  </thead>\n",
       "  <tbody>\n",
       "    <tr>\n",
       "      <th>0</th>\n",
       "      <td>2</td>\n",
       "      <td>ACORN-A</td>\n",
       "      <td>Affluent</td>\n",
       "    </tr>\n",
       "    <tr>\n",
       "      <th>1</th>\n",
       "      <td>3</td>\n",
       "      <td>ACORN-P</td>\n",
       "      <td>Adversity</td>\n",
       "    </tr>\n",
       "    <tr>\n",
       "      <th>2</th>\n",
       "      <td>4</td>\n",
       "      <td>ACORN-E</td>\n",
       "      <td>Affluent</td>\n",
       "    </tr>\n",
       "    <tr>\n",
       "      <th>3</th>\n",
       "      <td>6</td>\n",
       "      <td>ACORN-Q</td>\n",
       "      <td>Adversity</td>\n",
       "    </tr>\n",
       "    <tr>\n",
       "      <th>4</th>\n",
       "      <td>7</td>\n",
       "      <td>ACORN-H</td>\n",
       "      <td>Comfortable</td>\n",
       "    </tr>\n",
       "  </tbody>\n",
       "</table>\n",
       "</div>"
      ],
      "text/plain": [
       "   id    acorn acorn-grouped\n",
       "0   2  ACORN-A      Affluent\n",
       "1   3  ACORN-P     Adversity\n",
       "2   4  ACORN-E      Affluent\n",
       "3   6  ACORN-Q     Adversity\n",
       "4   7  ACORN-H   Comfortable"
      ]
     },
     "execution_count": 4,
     "metadata": {},
     "output_type": "execute_result"
    }
   ],
   "source": [
    "dfAcorn.head()"
   ]
  },
  {
   "cell_type": "code",
   "execution_count": 5,
   "metadata": {},
   "outputs": [
    {
     "name": "stdout",
     "output_type": "stream",
     "text": [
      "Ratio of Affluent customers     =  0.38245295851280886\n",
      "Ratio of non-Affluent customers =  0.6175470414871911\n"
     ]
    }
   ],
   "source": [
    "# What are the ratios of 'Affluent' and 'Non-Affluent' customers to\n",
    "# total number of customers ?\n",
    "\n",
    "dfac = dfAcorn['acorn-grouped'].groupby(dfAcorn['acorn-grouped']).count()\n",
    "nvals = sum(dfac)\n",
    "print(\"Ratio of Affluent customers     = \", sum(dfac.loc[dfac.index=='Affluent']) / nvals)\n",
    "print(\"Ratio of non-Affluent customers = \", sum(dfac.loc[dfac.index!='Affluent']) / nvals)"
   ]
  },
  {
   "cell_type": "markdown",
   "metadata": {},
   "source": [
    "<h2>Data Preparation</h2>"
   ]
  },
  {
   "cell_type": "code",
   "execution_count": 6,
   "metadata": {},
   "outputs": [],
   "source": [
    "target_names = [\"Non-Affluent\", \"Affluent\"]"
   ]
  },
  {
   "cell_type": "code",
   "execution_count": 7,
   "metadata": {},
   "outputs": [],
   "source": [
    "# Create X_entire, y_entire.\n",
    "# X_entire is a dataframe with total daily energy consumption for all customers.\n",
    "# y_entire is a list of (observed) Acorn classifications for all customers.\n",
    "\n",
    "# The following maps the Acorn-group classification to:\n",
    "#  0 - if the Acorn group is not 'Affluent'\n",
    "#  1 - if the Acorn group is 'Affluent'\n",
    "\n",
    "X_entire = dfTotal.drop(columns = ['id'])\n",
    "y_entire = (dfAcorn['acorn-grouped'] == 'Affluent').astype(int).values"
   ]
  },
  {
   "cell_type": "code",
   "execution_count": 8,
   "metadata": {},
   "outputs": [],
   "source": [
    "# Sart to build a training set. The project looks at the influence of \n",
    "# different training set non-Affluent count to Affluent count ratios have\n",
    "# on the ability to predict if a customer is Affluent.\n",
    "\n",
    "# The 'perfect' customers will be used for training. The first step is\n",
    "# to divide the 'perfect' customers into Affluent and non-Affluent groups,\n",
    "# each represented by its own DataFrame.\n",
    "\n",
    "dfAff = dfAcornPerfect.loc[dfAcornPerfect['acorn-grouped']=='Affluent']\n",
    "dfNonAff = dfAcornPerfect.loc[dfAcornPerfect['acorn-grouped']!='Affluent']"
   ]
  },
  {
   "cell_type": "code",
   "execution_count": 9,
   "metadata": {},
   "outputs": [],
   "source": [
    "# The following function will allow us to create datasets from dfAff and dfNonAff\n",
    "# with a specific ratio of non-Affluent to Affluent customers.\n",
    "\n",
    "from sklearn.model_selection import train_test_split\n",
    "\n",
    "def affluency_ratio_select(rat):\n",
    "    \n",
    "    # Returns test/train datasets taken from the 'perfect' customers\n",
    "    # with a presribed ratio, rat of Non-affluent to Affluent\n",
    "    # customer counts.\n",
    "    \n",
    "    # First, Take a random sample of rows from the 'non-Affluent' dataframe, \n",
    "    # with the number of said rows consistent the presribed ratio, rat.\n",
    "\n",
    "    dfNonAffSample = dfNonAff.sample(n = int(rat * len(dfAff)), random_state=29)\n",
    "\n",
    "    # Recombine to form a single dataframe.\n",
    "\n",
    "    dfSample = dfAff.append(dfNonAffSample)\n",
    "    dfSample = dfSample.sort_values(by=['id']) \n",
    "\n",
    "    # From the total daily energy consumption dataset, select those customers referenced\n",
    "    # in the dfSample dataframe. This is achieved using a left join using the 'id' of \n",
    "    # customers in the 'equal' dataset.\n",
    "\n",
    "    dfSelect = pd.merge(dfSample['id'], dfTotal, how='left', on = 'id') \n",
    "\n",
    "    X = dfSelect.drop(columns = ['id'])\n",
    "    y = (dfSample['acorn-grouped'] == 'Affluent').astype(int).values\n",
    "\n",
    "    # Perform a train-test split.\n",
    "    # Default split ratio is test = 0.25, train = 0.75.\n",
    "    # The stratify=y ensures that we have pro-rata sampling from each acorn-group.\n",
    "\n",
    "    X_train, X_test, y_train, y_test = train_test_split(X, y, random_state=29, stratify=y)\n",
    "    return X_train, X_test, y_train, y_test"
   ]
  },
  {
   "cell_type": "markdown",
   "metadata": {},
   "source": [
    "<h2>Linear SVM vs. Radial Basis Function SVM</h2>\n",
    "<p>The sklearn linear SVM is tested against the sklearn radial basis function SVM\n",
    "for a variety of ratios for non-Affluent customer count to Affluent customer count.</p>"
   ]
  },
  {
   "cell_type": "code",
   "execution_count": 10,
   "metadata": {},
   "outputs": [
    {
     "name": "stdout",
     "output_type": "stream",
     "text": [
      "Fitting 3 folds for each of 120 candidates, totalling 360 fits\n"
     ]
    },
    {
     "name": "stderr",
     "output_type": "stream",
     "text": [
      "[Parallel(n_jobs=-1)]: Using backend LokyBackend with 4 concurrent workers.\n",
      "[Parallel(n_jobs=-1)]: Done  24 tasks      | elapsed:    3.5s\n",
      "[Parallel(n_jobs=-1)]: Done 120 tasks      | elapsed:    7.2s\n",
      "[Parallel(n_jobs=-1)]: Done 280 tasks      | elapsed:   13.5s\n",
      "[Parallel(n_jobs=-1)]: Done 360 out of 360 | elapsed:   16.7s finished\n"
     ]
    },
    {
     "name": "stdout",
     "output_type": "stream",
     "text": [
      "{'test_acc': 0.6308724832214765, 'test_rec': 0.8409090909090909, 'test_prc': 0.6434782608695652, 'test_f1': 0.729064039408867, 'entire_acc': 0.5202901836318296, 'entire_rec': 0.8838174273858921, 'entire_prc': 0.4371152154793316, 'entire_f1': 0.5849352687328364, 'C': 1, 'gamma': 0.00031622776601683794, 'rat': 0.7000000000000001}\n",
      "Fitting 3 folds for each of 120 candidates, totalling 360 fits\n"
     ]
    },
    {
     "name": "stderr",
     "output_type": "stream",
     "text": [
      "[Parallel(n_jobs=-1)]: Using backend LokyBackend with 4 concurrent workers.\n",
      "[Parallel(n_jobs=-1)]: Done  40 tasks      | elapsed:    1.7s\n",
      "[Parallel(n_jobs=-1)]: Done 232 tasks      | elapsed:    9.6s\n",
      "[Parallel(n_jobs=-1)]: Done 360 out of 360 | elapsed:   15.2s finished\n",
      "C:\\Users\\jgree\\Anaconda3\\Lib\\site-packages\\sklearn\\model_selection\\_search.py:841: DeprecationWarning: The default of the `iid` parameter will change from True to False in version 0.22 and will be removed in 0.24. This will change numeric results when test-set sizes are unequal.\n",
      "  DeprecationWarning)\n"
     ]
    },
    {
     "name": "stdout",
     "output_type": "stream",
     "text": [
      "{'test_acc': 0.6178343949044586, 'test_rec': 0.8160919540229885, 'test_prc': 0.6173913043478261, 'test_f1': 0.7029702970297029, 'entire_acc': 0.5617773747449558, 'entire_rec': 0.8257261410788381, 'entire_prc': 0.4594327176781003, 'entire_f1': 0.5903793176520449, 'C': 2, 'gamma': 0.001, 'rat': 0.8}\n",
      "Fitting 3 folds for each of 120 candidates, totalling 360 fits\n"
     ]
    },
    {
     "name": "stderr",
     "output_type": "stream",
     "text": [
      "[Parallel(n_jobs=-1)]: Using backend LokyBackend with 4 concurrent workers.\n",
      "[Parallel(n_jobs=-1)]: Done  40 tasks      | elapsed:    2.1s\n",
      "[Parallel(n_jobs=-1)]: Done 232 tasks      | elapsed:   11.5s\n",
      "[Parallel(n_jobs=-1)]: Done 360 out of 360 | elapsed:   18.1s finished\n",
      "C:\\Users\\jgree\\Anaconda3\\Lib\\site-packages\\sklearn\\model_selection\\_search.py:841: DeprecationWarning: The default of the `iid` parameter will change from True to False in version 0.22 and will be removed in 0.24. This will change numeric results when test-set sizes are unequal.\n",
      "  DeprecationWarning)\n"
     ]
    },
    {
     "name": "stdout",
     "output_type": "stream",
     "text": [
      "{'test_acc': 0.6566265060240963, 'test_rec': 0.7471264367816092, 'test_prc': 0.65, 'test_f1': 0.6951871657754011, 'entire_acc': 0.6182271593742915, 'entire_rec': 0.7231772377000593, 'entire_prc': 0.5006155108740254, 'entire_f1': 0.5916585838991271, 'C': 1, 'gamma': 0.0005623413251903491, 'rat': 0.9}\n",
      "Fitting 3 folds for each of 120 candidates, totalling 360 fits\n"
     ]
    },
    {
     "name": "stderr",
     "output_type": "stream",
     "text": [
      "[Parallel(n_jobs=-1)]: Using backend LokyBackend with 4 concurrent workers.\n",
      "[Parallel(n_jobs=-1)]: Done  40 tasks      | elapsed:    2.2s\n",
      "[Parallel(n_jobs=-1)]: Done 232 tasks      | elapsed:   13.1s\n",
      "[Parallel(n_jobs=-1)]: Done 360 out of 360 | elapsed:   22.8s finished\n"
     ]
    },
    {
     "name": "stdout",
     "output_type": "stream",
     "text": [
      "{'test_acc': 0.6628571428571428, 'test_rec': 0.6363636363636364, 'test_prc': 0.6746987951807228, 'test_f1': 0.6549707602339182, 'entire_acc': 0.6479256404443436, 'entire_rec': 0.5666864256075874, 'entire_prc': 0.5376827896512936, 'entire_f1': 0.5518037518037517, 'C': 1, 'gamma': 0.00031622776601683794, 'rat': 1.0}\n",
      "Fitting 3 folds for each of 120 candidates, totalling 360 fits\n"
     ]
    },
    {
     "name": "stderr",
     "output_type": "stream",
     "text": [
      "[Parallel(n_jobs=-1)]: Using backend LokyBackend with 4 concurrent workers.\n",
      "[Parallel(n_jobs=-1)]: Done  24 tasks      | elapsed:    1.5s\n",
      "[Parallel(n_jobs=-1)]: Done 120 tasks      | elapsed:    7.7s\n",
      "[Parallel(n_jobs=-1)]: Done 280 tasks      | elapsed:   18.6s\n",
      "[Parallel(n_jobs=-1)]: Done 360 out of 360 | elapsed:   23.6s finished\n"
     ]
    },
    {
     "name": "stdout",
     "output_type": "stream",
     "text": [
      "{'test_acc': 0.6284153005464481, 'test_rec': 0.5172413793103449, 'test_prc': 0.6338028169014085, 'test_f1': 0.5696202531645571, 'entire_acc': 0.6626615279981863, 'entire_rec': 0.5180794309425015, 'entire_prc': 0.5642349903163331, 'entire_f1': 0.5401730531520396, 'C': 2, 'gamma': 0.00017782794100389227, 'rat': 1.1}\n",
      "Fitting 3 folds for each of 120 candidates, totalling 360 fits\n"
     ]
    },
    {
     "name": "stderr",
     "output_type": "stream",
     "text": [
      "[Parallel(n_jobs=-1)]: Using backend LokyBackend with 4 concurrent workers.\n",
      "[Parallel(n_jobs=-1)]: Done  24 tasks      | elapsed:    1.7s\n",
      "[Parallel(n_jobs=-1)]: Done 120 tasks      | elapsed:    9.3s\n",
      "[Parallel(n_jobs=-1)]: Done 280 tasks      | elapsed:   20.8s\n",
      "[Parallel(n_jobs=-1)]: Done 360 out of 360 | elapsed:   26.6s finished\n",
      "C:\\Users\\jgree\\Anaconda3\\Lib\\site-packages\\sklearn\\model_selection\\_search.py:841: DeprecationWarning: The default of the `iid` parameter will change from True to False in version 0.22 and will be removed in 0.24. This will change numeric results when test-set sizes are unequal.\n",
      "  DeprecationWarning)\n"
     ]
    },
    {
     "name": "stdout",
     "output_type": "stream",
     "text": [
      "{'test_acc': 0.6302083333333334, 'test_rec': 0.5517241379310345, 'test_prc': 0.6, 'test_f1': 0.5748502994011977, 'entire_acc': 0.6440716390841079, 'entire_rec': 0.6330764671013633, 'entire_prc': 0.5289747399702823, 'entire_f1': 0.5763626551538047, 'C': 5, 'gamma': 0.00031622776601683794, 'rat': 1.2000000000000002}\n",
      "Fitting 3 folds for each of 120 candidates, totalling 360 fits\n"
     ]
    },
    {
     "name": "stderr",
     "output_type": "stream",
     "text": [
      "[Parallel(n_jobs=-1)]: Using backend LokyBackend with 4 concurrent workers.\n",
      "[Parallel(n_jobs=-1)]: Done  24 tasks      | elapsed:    1.6s\n",
      "[Parallel(n_jobs=-1)]: Done 120 tasks      | elapsed:    8.9s\n",
      "[Parallel(n_jobs=-1)]: Done 280 tasks      | elapsed:   21.2s\n",
      "[Parallel(n_jobs=-1)]: Done 360 out of 360 | elapsed:   27.1s finished\n"
     ]
    },
    {
     "name": "stdout",
     "output_type": "stream",
     "text": [
      "{'test_acc': 0.6119402985074627, 'test_rec': 0.42528735632183906, 'test_prc': 0.5692307692307692, 'test_f1': 0.4868421052631578, 'entire_acc': 0.6762638857401949, 'entire_rec': 0.5340841730883225, 'entire_prc': 0.5839274141283215, 'entire_f1': 0.5578947368421053, 'C': 3, 'gamma': 0.00017782794100389227, 'rat': 1.3}\n",
      "Fitting 3 folds for each of 120 candidates, totalling 360 fits\n"
     ]
    },
    {
     "name": "stderr",
     "output_type": "stream",
     "text": [
      "[Parallel(n_jobs=-1)]: Using backend LokyBackend with 4 concurrent workers.\n",
      "[Parallel(n_jobs=-1)]: Done  24 tasks      | elapsed:    1.8s\n",
      "[Parallel(n_jobs=-1)]: Done 120 tasks      | elapsed:   10.0s\n",
      "[Parallel(n_jobs=-1)]: Done 280 tasks      | elapsed:   23.0s\n",
      "[Parallel(n_jobs=-1)]: Done 360 out of 360 | elapsed:   29.5s finished\n"
     ]
    },
    {
     "name": "stdout",
     "output_type": "stream",
     "text": [
      "{'test_acc': 0.6238095238095238, 'test_rec': 0.23863636363636365, 'test_prc': 0.6363636363636364, 'test_f1': 0.34710743801652894, 'entire_acc': 0.67377012015416, 'entire_rec': 0.3005334914048607, 'entire_prc': 0.6618798955613577, 'entire_f1': 0.41337138198124745, 'C': 1, 'gamma': 0.0001, 'rat': 1.4000000000000001}\n",
      "Fitting 3 folds for each of 120 candidates, totalling 360 fits\n"
     ]
    },
    {
     "name": "stderr",
     "output_type": "stream",
     "text": [
      "[Parallel(n_jobs=-1)]: Using backend LokyBackend with 4 concurrent workers.\n",
      "[Parallel(n_jobs=-1)]: Done  24 tasks      | elapsed:    1.8s\n",
      "[Parallel(n_jobs=-1)]: Done 120 tasks      | elapsed:   10.5s\n",
      "[Parallel(n_jobs=-1)]: Done 280 tasks      | elapsed:   25.3s\n",
      "[Parallel(n_jobs=-1)]: Done 360 out of 360 | elapsed:   32.7s finished\n"
     ]
    },
    {
     "name": "stdout",
     "output_type": "stream",
     "text": [
      "{'test_acc': 0.6238532110091743, 'test_rec': 0.2413793103448276, 'test_prc': 0.5675675675675675, 'test_f1': 0.33870967741935487, 'entire_acc': 0.6828383586488325, 'entire_rec': 0.34676941315945464, 'entire_prc': 0.6632653061224489, 'entire_f1': 0.45543012845465164, 'C': 2, 'gamma': 0.0001, 'rat': 1.5}\n"
     ]
    }
   ],
   "source": [
    "from run_grid import run_grid\n",
    "\n",
    "# Create a dataframe to house the results of the grid search for each Non-affluent to affluent ratio.\n",
    "# For each ratio, the results for the best parameter combination are returned (by run_grid) and added \n",
    "# as a fresh row to the afore-mentioned dataframe.\n",
    "\n",
    "dfrbf = pd.DataFrame(columns = ['rat', 'test_acc', 'test_rec', 'test_prc', 'test_f1', \\\n",
    "                                'entire_acc', 'entire_rec', 'entire_prc', 'entire_f1', 'C', 'gamma'])\n",
    "for i in range(7,16):\n",
    "    rat = 0.1 * i\n",
    "\n",
    "    X_train, X_test, y_train, y_test = affluency_ratio_select(rat)\n",
    "    res = run_grid('rbf', X_train, y_train, X_test, y_test, X_entire, y_entire)\n",
    "    res['rat'] = rat\n",
    "    \n",
    "    print(res)\n",
    "    # Add a new row of results to the dataframe dfrbf.\n",
    "    \n",
    "    dfrbf = dfrbf.append(res, ignore_index=True)  "
   ]
  },
  {
   "cell_type": "markdown",
   "metadata": {},
   "source": [
    "<p>Here is the dataframe that contains results from the optimal parameter combination for\n",
    "each training ratio. The peak f1 score when measured after applying the model to the entire \n",
    "set of customers is 0.591, which is attained at a training ratio of 0.9.</p>"
   ]
  },
  {
   "cell_type": "code",
   "execution_count": 11,
   "metadata": {},
   "outputs": [
    {
     "data": {
      "text/html": [
       "<div>\n",
       "<style scoped>\n",
       "    .dataframe tbody tr th:only-of-type {\n",
       "        vertical-align: middle;\n",
       "    }\n",
       "\n",
       "    .dataframe tbody tr th {\n",
       "        vertical-align: top;\n",
       "    }\n",
       "\n",
       "    .dataframe thead th {\n",
       "        text-align: right;\n",
       "    }\n",
       "</style>\n",
       "<table border=\"1\" class=\"dataframe\">\n",
       "  <thead>\n",
       "    <tr style=\"text-align: right;\">\n",
       "      <th></th>\n",
       "      <th>rat</th>\n",
       "      <th>test_acc</th>\n",
       "      <th>test_rec</th>\n",
       "      <th>test_prc</th>\n",
       "      <th>test_f1</th>\n",
       "      <th>entire_acc</th>\n",
       "      <th>entire_rec</th>\n",
       "      <th>entire_prc</th>\n",
       "      <th>entire_f1</th>\n",
       "      <th>C</th>\n",
       "      <th>gamma</th>\n",
       "    </tr>\n",
       "  </thead>\n",
       "  <tbody>\n",
       "    <tr>\n",
       "      <th>0</th>\n",
       "      <td>0.7</td>\n",
       "      <td>0.630872</td>\n",
       "      <td>0.840909</td>\n",
       "      <td>0.643478</td>\n",
       "      <td>0.729064</td>\n",
       "      <td>0.520290</td>\n",
       "      <td>0.883817</td>\n",
       "      <td>0.437115</td>\n",
       "      <td>0.584935</td>\n",
       "      <td>1.0</td>\n",
       "      <td>0.000316</td>\n",
       "    </tr>\n",
       "    <tr>\n",
       "      <th>1</th>\n",
       "      <td>0.8</td>\n",
       "      <td>0.617834</td>\n",
       "      <td>0.816092</td>\n",
       "      <td>0.617391</td>\n",
       "      <td>0.702970</td>\n",
       "      <td>0.561777</td>\n",
       "      <td>0.825726</td>\n",
       "      <td>0.459433</td>\n",
       "      <td>0.590379</td>\n",
       "      <td>2.0</td>\n",
       "      <td>0.001000</td>\n",
       "    </tr>\n",
       "    <tr>\n",
       "      <th>2</th>\n",
       "      <td>0.9</td>\n",
       "      <td>0.656627</td>\n",
       "      <td>0.747126</td>\n",
       "      <td>0.650000</td>\n",
       "      <td>0.695187</td>\n",
       "      <td>0.618227</td>\n",
       "      <td>0.723177</td>\n",
       "      <td>0.500616</td>\n",
       "      <td>0.591659</td>\n",
       "      <td>1.0</td>\n",
       "      <td>0.000562</td>\n",
       "    </tr>\n",
       "    <tr>\n",
       "      <th>3</th>\n",
       "      <td>1.0</td>\n",
       "      <td>0.662857</td>\n",
       "      <td>0.636364</td>\n",
       "      <td>0.674699</td>\n",
       "      <td>0.654971</td>\n",
       "      <td>0.647926</td>\n",
       "      <td>0.566686</td>\n",
       "      <td>0.537683</td>\n",
       "      <td>0.551804</td>\n",
       "      <td>1.0</td>\n",
       "      <td>0.000316</td>\n",
       "    </tr>\n",
       "    <tr>\n",
       "      <th>4</th>\n",
       "      <td>1.1</td>\n",
       "      <td>0.628415</td>\n",
       "      <td>0.517241</td>\n",
       "      <td>0.633803</td>\n",
       "      <td>0.569620</td>\n",
       "      <td>0.662662</td>\n",
       "      <td>0.518079</td>\n",
       "      <td>0.564235</td>\n",
       "      <td>0.540173</td>\n",
       "      <td>2.0</td>\n",
       "      <td>0.000178</td>\n",
       "    </tr>\n",
       "    <tr>\n",
       "      <th>5</th>\n",
       "      <td>1.2</td>\n",
       "      <td>0.630208</td>\n",
       "      <td>0.551724</td>\n",
       "      <td>0.600000</td>\n",
       "      <td>0.574850</td>\n",
       "      <td>0.644072</td>\n",
       "      <td>0.633076</td>\n",
       "      <td>0.528975</td>\n",
       "      <td>0.576363</td>\n",
       "      <td>5.0</td>\n",
       "      <td>0.000316</td>\n",
       "    </tr>\n",
       "    <tr>\n",
       "      <th>6</th>\n",
       "      <td>1.3</td>\n",
       "      <td>0.611940</td>\n",
       "      <td>0.425287</td>\n",
       "      <td>0.569231</td>\n",
       "      <td>0.486842</td>\n",
       "      <td>0.676264</td>\n",
       "      <td>0.534084</td>\n",
       "      <td>0.583927</td>\n",
       "      <td>0.557895</td>\n",
       "      <td>3.0</td>\n",
       "      <td>0.000178</td>\n",
       "    </tr>\n",
       "    <tr>\n",
       "      <th>7</th>\n",
       "      <td>1.4</td>\n",
       "      <td>0.623810</td>\n",
       "      <td>0.238636</td>\n",
       "      <td>0.636364</td>\n",
       "      <td>0.347107</td>\n",
       "      <td>0.673770</td>\n",
       "      <td>0.300533</td>\n",
       "      <td>0.661880</td>\n",
       "      <td>0.413371</td>\n",
       "      <td>1.0</td>\n",
       "      <td>0.000100</td>\n",
       "    </tr>\n",
       "    <tr>\n",
       "      <th>8</th>\n",
       "      <td>1.5</td>\n",
       "      <td>0.623853</td>\n",
       "      <td>0.241379</td>\n",
       "      <td>0.567568</td>\n",
       "      <td>0.338710</td>\n",
       "      <td>0.682838</td>\n",
       "      <td>0.346769</td>\n",
       "      <td>0.663265</td>\n",
       "      <td>0.455430</td>\n",
       "      <td>2.0</td>\n",
       "      <td>0.000100</td>\n",
       "    </tr>\n",
       "  </tbody>\n",
       "</table>\n",
       "</div>"
      ],
      "text/plain": [
       "   rat  test_acc  test_rec  test_prc   test_f1  entire_acc  entire_rec  \\\n",
       "0  0.7  0.630872  0.840909  0.643478  0.729064    0.520290    0.883817   \n",
       "1  0.8  0.617834  0.816092  0.617391  0.702970    0.561777    0.825726   \n",
       "2  0.9  0.656627  0.747126  0.650000  0.695187    0.618227    0.723177   \n",
       "3  1.0  0.662857  0.636364  0.674699  0.654971    0.647926    0.566686   \n",
       "4  1.1  0.628415  0.517241  0.633803  0.569620    0.662662    0.518079   \n",
       "5  1.2  0.630208  0.551724  0.600000  0.574850    0.644072    0.633076   \n",
       "6  1.3  0.611940  0.425287  0.569231  0.486842    0.676264    0.534084   \n",
       "7  1.4  0.623810  0.238636  0.636364  0.347107    0.673770    0.300533   \n",
       "8  1.5  0.623853  0.241379  0.567568  0.338710    0.682838    0.346769   \n",
       "\n",
       "   entire_prc  entire_f1    C     gamma  \n",
       "0    0.437115   0.584935  1.0  0.000316  \n",
       "1    0.459433   0.590379  2.0  0.001000  \n",
       "2    0.500616   0.591659  1.0  0.000562  \n",
       "3    0.537683   0.551804  1.0  0.000316  \n",
       "4    0.564235   0.540173  2.0  0.000178  \n",
       "5    0.528975   0.576363  5.0  0.000316  \n",
       "6    0.583927   0.557895  3.0  0.000178  \n",
       "7    0.661880   0.413371  1.0  0.000100  \n",
       "8    0.663265   0.455430  2.0  0.000100  "
      ]
     },
     "execution_count": 11,
     "metadata": {},
     "output_type": "execute_result"
    }
   ],
   "source": [
    "dfrbf"
   ]
  },
  {
   "cell_type": "code",
   "execution_count": 12,
   "metadata": {},
   "outputs": [
    {
     "name": "stdout",
     "output_type": "stream",
     "text": [
      "Fitting 3 folds for each of 10 candidates, totalling 30 fits\n"
     ]
    },
    {
     "name": "stderr",
     "output_type": "stream",
     "text": [
      "[Parallel(n_jobs=-1)]: Using backend LokyBackend with 4 concurrent workers.\n",
      "[Parallel(n_jobs=-1)]: Done  30 out of  30 | elapsed:    1.6s finished\n"
     ]
    },
    {
     "name": "stdout",
     "output_type": "stream",
     "text": [
      "{'test_acc': 0.5234899328859061, 'test_rec': 0.5909090909090909, 'test_prc': 0.5977011494252874, 'test_f1': 0.5942857142857143, 'entire_acc': 0.5395601904330084, 'entire_rec': 0.6141078838174274, 'entire_prc': 0.4288079470198676, 'entire_f1': 0.5049963441384353, 'C': 1, 'rat': 0.7000000000000001}\n",
      "Fitting 3 folds for each of 10 candidates, totalling 30 fits\n"
     ]
    },
    {
     "name": "stderr",
     "output_type": "stream",
     "text": [
      "[Parallel(n_jobs=-1)]: Using backend LokyBackend with 4 concurrent workers.\n",
      "[Parallel(n_jobs=-1)]: Done  30 out of  30 | elapsed:    2.3s finished\n"
     ]
    },
    {
     "name": "stdout",
     "output_type": "stream",
     "text": [
      "{'test_acc': 0.5095541401273885, 'test_rec': 0.5977011494252874, 'test_prc': 0.5531914893617021, 'test_f1': 0.5745856353591161, 'entire_acc': 0.555656313761052, 'entire_rec': 0.6253704801422644, 'entire_prc': 0.44271926143516577, 'entire_f1': 0.5184275184275184, 'C': 1, 'rat': 0.8}\n",
      "Fitting 3 folds for each of 10 candidates, totalling 30 fits\n"
     ]
    },
    {
     "name": "stderr",
     "output_type": "stream",
     "text": [
      "[Parallel(n_jobs=-1)]: Using backend LokyBackend with 4 concurrent workers.\n",
      "[Parallel(n_jobs=-1)]: Done  30 out of  30 | elapsed:    2.6s finished\n"
     ]
    },
    {
     "name": "stdout",
     "output_type": "stream",
     "text": [
      "{'test_acc': 0.5240963855421686, 'test_rec': 0.4942528735632184, 'test_prc': 0.5512820512820513, 'test_f1': 0.5212121212121212, 'entire_acc': 0.5930627975515756, 'entire_rec': 0.5743924125666864, 'entire_prc': 0.4736070381231672, 'entire_f1': 0.5191534958478435, 'C': 1, 'rat': 0.9}\n",
      "Fitting 3 folds for each of 10 candidates, totalling 30 fits\n"
     ]
    },
    {
     "name": "stderr",
     "output_type": "stream",
     "text": [
      "[Parallel(n_jobs=-1)]: Using backend LokyBackend with 4 concurrent workers.\n",
      "[Parallel(n_jobs=-1)]: Done  30 out of  30 | elapsed:    4.4s finished\n"
     ]
    },
    {
     "name": "stdout",
     "output_type": "stream",
     "text": [
      "{'test_acc': 0.5257142857142857, 'test_rec': 0.5568181818181818, 'test_prc': 0.5268817204301075, 'test_f1': 0.5414364640883979, 'entire_acc': 0.5785536159600998, 'entire_rec': 0.5951393005334914, 'entire_prc': 0.46055045871559636, 'entire_f1': 0.5192655805534007, 'C': 1, 'rat': 1.0}\n",
      "Fitting 3 folds for each of 10 candidates, totalling 30 fits\n"
     ]
    },
    {
     "name": "stderr",
     "output_type": "stream",
     "text": [
      "[Parallel(n_jobs=-1)]: Using backend LokyBackend with 4 concurrent workers.\n",
      "[Parallel(n_jobs=-1)]: Done  30 out of  30 | elapsed:    4.2s finished\n"
     ]
    },
    {
     "name": "stdout",
     "output_type": "stream",
     "text": [
      "{'test_acc': 0.546448087431694, 'test_rec': 0.5287356321839081, 'test_prc': 0.5227272727272727, 'test_f1': 0.5257142857142857, 'entire_acc': 0.592609385626842, 'entire_rec': 0.5826911677534085, 'entire_prc': 0.4735067437379576, 'entire_f1': 0.5224554876428382, 'C': 1, 'rat': 1.1}\n",
      "Fitting 3 folds for each of 10 candidates, totalling 30 fits\n"
     ]
    },
    {
     "name": "stderr",
     "output_type": "stream",
     "text": [
      "[Parallel(n_jobs=-1)]: Using backend LokyBackend with 4 concurrent workers.\n",
      "[Parallel(n_jobs=-1)]: Done  30 out of  30 | elapsed:    4.3s finished\n"
     ]
    },
    {
     "name": "stdout",
     "output_type": "stream",
     "text": [
      "{'test_acc': 0.5052083333333334, 'test_rec': 0.4482758620689655, 'test_prc': 0.45348837209302323, 'test_f1': 0.45086705202312144, 'entire_acc': 0.591475855815008, 'entire_rec': 0.5779490219324244, 'entire_prc': 0.4721549636803874, 'entire_f1': 0.5197228144989339, 'C': 1, 'rat': 1.2000000000000002}\n",
      "Fitting 3 folds for each of 10 candidates, totalling 30 fits\n"
     ]
    },
    {
     "name": "stderr",
     "output_type": "stream",
     "text": [
      "[Parallel(n_jobs=-1)]: Using backend LokyBackend with 4 concurrent workers.\n",
      "[Parallel(n_jobs=-1)]: Done  30 out of  30 | elapsed:    4.3s finished\n"
     ]
    },
    {
     "name": "stdout",
     "output_type": "stream",
     "text": [
      "{'test_acc': 0.5024875621890548, 'test_rec': 0.41379310344827586, 'test_prc': 0.4235294117647059, 'test_f1': 0.4186046511627907, 'entire_acc': 0.597370210836545, 'entire_rec': 0.5394190871369294, 'entire_prc': 0.47668936616029334, 'entire_f1': 0.5061179087875417, 'C': 1, 'rat': 1.3}\n",
      "Fitting 3 folds for each of 10 candidates, totalling 30 fits\n"
     ]
    },
    {
     "name": "stderr",
     "output_type": "stream",
     "text": [
      "[Parallel(n_jobs=-1)]: Using backend LokyBackend with 4 concurrent workers.\n",
      "[Parallel(n_jobs=-1)]: Done  30 out of  30 | elapsed:    4.7s finished\n"
     ]
    },
    {
     "name": "stdout",
     "output_type": "stream",
     "text": [
      "{'test_acc': 0.5095238095238095, 'test_rec': 0.3522727272727273, 'test_prc': 0.4025974025974026, 'test_f1': 0.3757575757575758, 'entire_acc': 0.6157333937882566, 'entire_rec': 0.5423829282750444, 'entire_prc': 0.49782372143634385, 'entire_f1': 0.5191489361702127, 'C': 1, 'rat': 1.4000000000000001}\n",
      "Fitting 3 folds for each of 10 candidates, totalling 30 fits\n"
     ]
    },
    {
     "name": "stderr",
     "output_type": "stream",
     "text": [
      "[Parallel(n_jobs=-1)]: Using backend LokyBackend with 4 concurrent workers.\n",
      "[Parallel(n_jobs=-1)]: Done  30 out of  30 | elapsed:    6.4s finished\n"
     ]
    },
    {
     "name": "stdout",
     "output_type": "stream",
     "text": [
      "{'test_acc': 0.536697247706422, 'test_rec': 0.42528735632183906, 'test_prc': 0.42045454545454547, 'test_f1': 0.4228571428571428, 'entire_acc': 0.6050782135570165, 'entire_rec': 0.5305275637225845, 'entire_prc': 0.48509485094850946, 'entire_f1': 0.5067950169875425, 'C': 1, 'rat': 1.5}\n"
     ]
    }
   ],
   "source": [
    "dflin = pd.DataFrame(columns = ['rat', 'test_acc', 'test_rec', 'test_prc', 'test_f1', \\\n",
    "                                'entire_acc', 'entire_rec', 'entire_prc', 'entire_f1', 'C'])\n",
    "\n",
    "for i in range(7,16):\n",
    "    rat = 0.1 * i\n",
    "\n",
    "    X_train, X_test, y_train, y_test = affluency_ratio_select(rat)\n",
    "    res = run_grid('linear', X_train, y_train, X_test, y_test, X_entire, y_entire)\n",
    "    res['rat'] = rat\n",
    "    \n",
    "    print(res)\n",
    "    dflin = dflin.append(res, ignore_index=True)  "
   ]
  },
  {
   "cell_type": "markdown",
   "metadata": {},
   "source": [
    "<p>Here is the dataframe that contains results from the optimal parameter combination for each training ratio for the\n",
    "case in which a linear SVM model has been trained,</p>\n",
    "<p>The peak F1 score for an evaluation of the linear SVM model's performance on the entire dataset is 0.522 and \n",
    "is attained for a training ratio of 1.1. This value is notably lower than the peak F1 score attained\n",
    "for the radial basis function SVM, which attained a value of .591 at a training ratio of 0.9.</p>"
   ]
  },
  {
   "cell_type": "code",
   "execution_count": 13,
   "metadata": {},
   "outputs": [
    {
     "data": {
      "text/html": [
       "<div>\n",
       "<style scoped>\n",
       "    .dataframe tbody tr th:only-of-type {\n",
       "        vertical-align: middle;\n",
       "    }\n",
       "\n",
       "    .dataframe tbody tr th {\n",
       "        vertical-align: top;\n",
       "    }\n",
       "\n",
       "    .dataframe thead th {\n",
       "        text-align: right;\n",
       "    }\n",
       "</style>\n",
       "<table border=\"1\" class=\"dataframe\">\n",
       "  <thead>\n",
       "    <tr style=\"text-align: right;\">\n",
       "      <th></th>\n",
       "      <th>rat</th>\n",
       "      <th>test_acc</th>\n",
       "      <th>test_rec</th>\n",
       "      <th>test_prc</th>\n",
       "      <th>test_f1</th>\n",
       "      <th>entire_acc</th>\n",
       "      <th>entire_rec</th>\n",
       "      <th>entire_prc</th>\n",
       "      <th>entire_f1</th>\n",
       "      <th>C</th>\n",
       "    </tr>\n",
       "  </thead>\n",
       "  <tbody>\n",
       "    <tr>\n",
       "      <th>0</th>\n",
       "      <td>0.7</td>\n",
       "      <td>0.523490</td>\n",
       "      <td>0.590909</td>\n",
       "      <td>0.597701</td>\n",
       "      <td>0.594286</td>\n",
       "      <td>0.539560</td>\n",
       "      <td>0.614108</td>\n",
       "      <td>0.428808</td>\n",
       "      <td>0.504996</td>\n",
       "      <td>1.0</td>\n",
       "    </tr>\n",
       "    <tr>\n",
       "      <th>1</th>\n",
       "      <td>0.8</td>\n",
       "      <td>0.509554</td>\n",
       "      <td>0.597701</td>\n",
       "      <td>0.553191</td>\n",
       "      <td>0.574586</td>\n",
       "      <td>0.555656</td>\n",
       "      <td>0.625370</td>\n",
       "      <td>0.442719</td>\n",
       "      <td>0.518428</td>\n",
       "      <td>1.0</td>\n",
       "    </tr>\n",
       "    <tr>\n",
       "      <th>2</th>\n",
       "      <td>0.9</td>\n",
       "      <td>0.524096</td>\n",
       "      <td>0.494253</td>\n",
       "      <td>0.551282</td>\n",
       "      <td>0.521212</td>\n",
       "      <td>0.593063</td>\n",
       "      <td>0.574392</td>\n",
       "      <td>0.473607</td>\n",
       "      <td>0.519153</td>\n",
       "      <td>1.0</td>\n",
       "    </tr>\n",
       "    <tr>\n",
       "      <th>3</th>\n",
       "      <td>1.0</td>\n",
       "      <td>0.525714</td>\n",
       "      <td>0.556818</td>\n",
       "      <td>0.526882</td>\n",
       "      <td>0.541436</td>\n",
       "      <td>0.578554</td>\n",
       "      <td>0.595139</td>\n",
       "      <td>0.460550</td>\n",
       "      <td>0.519266</td>\n",
       "      <td>1.0</td>\n",
       "    </tr>\n",
       "    <tr>\n",
       "      <th>4</th>\n",
       "      <td>1.1</td>\n",
       "      <td>0.546448</td>\n",
       "      <td>0.528736</td>\n",
       "      <td>0.522727</td>\n",
       "      <td>0.525714</td>\n",
       "      <td>0.592609</td>\n",
       "      <td>0.582691</td>\n",
       "      <td>0.473507</td>\n",
       "      <td>0.522455</td>\n",
       "      <td>1.0</td>\n",
       "    </tr>\n",
       "    <tr>\n",
       "      <th>5</th>\n",
       "      <td>1.2</td>\n",
       "      <td>0.505208</td>\n",
       "      <td>0.448276</td>\n",
       "      <td>0.453488</td>\n",
       "      <td>0.450867</td>\n",
       "      <td>0.591476</td>\n",
       "      <td>0.577949</td>\n",
       "      <td>0.472155</td>\n",
       "      <td>0.519723</td>\n",
       "      <td>1.0</td>\n",
       "    </tr>\n",
       "    <tr>\n",
       "      <th>6</th>\n",
       "      <td>1.3</td>\n",
       "      <td>0.502488</td>\n",
       "      <td>0.413793</td>\n",
       "      <td>0.423529</td>\n",
       "      <td>0.418605</td>\n",
       "      <td>0.597370</td>\n",
       "      <td>0.539419</td>\n",
       "      <td>0.476689</td>\n",
       "      <td>0.506118</td>\n",
       "      <td>1.0</td>\n",
       "    </tr>\n",
       "    <tr>\n",
       "      <th>7</th>\n",
       "      <td>1.4</td>\n",
       "      <td>0.509524</td>\n",
       "      <td>0.352273</td>\n",
       "      <td>0.402597</td>\n",
       "      <td>0.375758</td>\n",
       "      <td>0.615733</td>\n",
       "      <td>0.542383</td>\n",
       "      <td>0.497824</td>\n",
       "      <td>0.519149</td>\n",
       "      <td>1.0</td>\n",
       "    </tr>\n",
       "    <tr>\n",
       "      <th>8</th>\n",
       "      <td>1.5</td>\n",
       "      <td>0.536697</td>\n",
       "      <td>0.425287</td>\n",
       "      <td>0.420455</td>\n",
       "      <td>0.422857</td>\n",
       "      <td>0.605078</td>\n",
       "      <td>0.530528</td>\n",
       "      <td>0.485095</td>\n",
       "      <td>0.506795</td>\n",
       "      <td>1.0</td>\n",
       "    </tr>\n",
       "  </tbody>\n",
       "</table>\n",
       "</div>"
      ],
      "text/plain": [
       "   rat  test_acc  test_rec  test_prc   test_f1  entire_acc  entire_rec  \\\n",
       "0  0.7  0.523490  0.590909  0.597701  0.594286    0.539560    0.614108   \n",
       "1  0.8  0.509554  0.597701  0.553191  0.574586    0.555656    0.625370   \n",
       "2  0.9  0.524096  0.494253  0.551282  0.521212    0.593063    0.574392   \n",
       "3  1.0  0.525714  0.556818  0.526882  0.541436    0.578554    0.595139   \n",
       "4  1.1  0.546448  0.528736  0.522727  0.525714    0.592609    0.582691   \n",
       "5  1.2  0.505208  0.448276  0.453488  0.450867    0.591476    0.577949   \n",
       "6  1.3  0.502488  0.413793  0.423529  0.418605    0.597370    0.539419   \n",
       "7  1.4  0.509524  0.352273  0.402597  0.375758    0.615733    0.542383   \n",
       "8  1.5  0.536697  0.425287  0.420455  0.422857    0.605078    0.530528   \n",
       "\n",
       "   entire_prc  entire_f1    C  \n",
       "0    0.428808   0.504996  1.0  \n",
       "1    0.442719   0.518428  1.0  \n",
       "2    0.473607   0.519153  1.0  \n",
       "3    0.460550   0.519266  1.0  \n",
       "4    0.473507   0.522455  1.0  \n",
       "5    0.472155   0.519723  1.0  \n",
       "6    0.476689   0.506118  1.0  \n",
       "7    0.497824   0.519149  1.0  \n",
       "8    0.485095   0.506795  1.0  "
      ]
     },
     "execution_count": 13,
     "metadata": {},
     "output_type": "execute_result"
    }
   ],
   "source": [
    "dflin"
   ]
  },
  {
   "cell_type": "markdown",
   "metadata": {},
   "source": [
    "<h2>Further Optimization by Parameter</h2>\n",
    "<p>In this section we manually tweak the parameters (without cross-validation) in order to \n",
    "assess whether improvements can be made to prective accuracy when appied to the entire customer\n",
    "set.</p>"
   ]
  },
  {
   "cell_type": "code",
   "execution_count": 14,
   "metadata": {},
   "outputs": [],
   "source": [
    "X_train, X_test, y_train, y_test = affluency_ratio_select(0.9)"
   ]
  },
  {
   "cell_type": "code",
   "execution_count": 15,
   "metadata": {},
   "outputs": [
    {
     "name": "stdout",
     "output_type": "stream",
     "text": [
      "Number of accurate predictions =  2727\n",
      "Ratio of accurate predictions =  0.62 \n",
      "\n",
      "              precision    recall  f1-score   support\n",
      "\n",
      "Non-Affluent       0.76      0.55      0.64      2724\n",
      "    Affluent       0.50      0.72      0.59      1687\n",
      "\n",
      "   micro avg       0.62      0.62      0.62      4411\n",
      "   macro avg       0.63      0.64      0.62      4411\n",
      "weighted avg       0.66      0.62      0.62      4411\n",
      "\n",
      "0.7231772377000593\n"
     ]
    }
   ],
   "source": [
    "from sklearn.model_selection import GridSearchCV\n",
    "from sklearn.svm import SVC \n",
    "from sklearn.metrics import classification_report\n",
    "\n",
    "model = SVC(kernel = 'rbf', max_iter = 1000000, C = 1, gamma = .000562)\n",
    "model.fit(X_train, y_train)\n",
    "\n",
    "from report_model_performance import report_model\n",
    "report_model(model, X_entire, y_entire, target_names)"
   ]
  },
  {
   "cell_type": "code",
   "execution_count": 16,
   "metadata": {},
   "outputs": [],
   "source": [
    "import numpy as np\n",
    "a = np.full((5, 12), 0.0)\n",
    "\n",
    "from report_model_performance import report_model_performance\n",
    "\n",
    "for i in range(5):\n",
    "    for j in range(12):\n",
    "        C = i+1\n",
    "        gamma = 10 **(-4 + 0.25*j)\n",
    "        \n",
    "        model = SVC(kernel = 'rbf', max_iter = 1000000, C=C, gamma = gamma)\n",
    "        model.fit(X_train, y_train)\n",
    "    \n",
    "        acc, rec, prc, f1s = report_model_performance(model, X_entire, y_entire, target_names)\n",
    "    \n",
    "        a[i][j] = f1s"
   ]
  },
  {
   "cell_type": "code",
   "execution_count": 17,
   "metadata": {},
   "outputs": [
    {
     "data": {
      "image/png": "[encoded data removed]",
      "text/plain": [
       "<Figure size 432x288 with 1 Axes>"
      ]
     },
     "metadata": {
      "needs_background": "light"
     },
     "output_type": "display_data"
    }
   ],
   "source": [
    "# Create a heat-map plot of the f1-score for various C, gamma parameter combinations\n",
    "# for the case in which a nonAffluent to Affluent customer count ratio of 0.9 is used.\n",
    "\n",
    "%matplotlib inline\n",
    "import matplotlib.pyplot as plt\n",
    "\n",
    "plt.imshow(a, cmap='hot', interpolation='nearest')\n",
    "\n",
    "xtls = [(-4 + 0.25*j) for j in range(12)]\n",
    "ytls = [j+1 for j in range(5)]\n",
    "plt.xticks(list(range(12)), xtls)\n",
    "plt.yticks(list(range(5)), ytls)\n",
    "plt.xlabel(\"log\\u2081\\u2080(\\u03B3)\")\n",
    "plt.ylabel(\"C\")\n",
    "plt.show()"
   ]
  },
  {
   "cell_type": "code",
   "execution_count": 18,
   "metadata": {},
   "outputs": [
    {
     "name": "stdout",
     "output_type": "stream",
     "text": [
      "Number of accurate predictions =  2683\n",
      "Ratio of accurate predictions =  0.61 \n",
      "\n",
      "              precision    recall  f1-score   support\n",
      "\n",
      "Non-Affluent       0.78      0.51      0.62      2724\n",
      "    Affluent       0.49      0.76      0.60      1687\n",
      "\n",
      "   micro avg       0.61      0.61      0.61      4411\n",
      "   macro avg       0.64      0.64      0.61      4411\n",
      "weighted avg       0.67      0.61      0.61      4411\n",
      "\n",
      "0.7646710136336692\n"
     ]
    }
   ],
   "source": [
    "# The heat map shown above suggests that C=4, gamma = 10^(-3.25) [=.000562]\n",
    "# might have produced a slightly better model for the case where the Non-Aff:Aff\n",
    "# ratio = 0.9. This turns out to be true, if only marginally (f1-score = 0.6).\n",
    "\n",
    "model = SVC(kernel = 'rbf', max_iter = 1000000, C = 4, gamma = .000562)\n",
    "model.fit(X_train, y_train)\n",
    "report_model(model, X_entire, y_entire, target_names)"
   ]
  }
 ],
 "metadata": {
  "kernelspec": {
   "display_name": "Python 3",
   "language": "python",
   "name": "python3"
  },
  "language_info": {
   "codemirror_mode": {
    "name": "ipython",
    "version": 3
   },
   "file_extension": ".py",
   "mimetype": "text/x-python",
   "name": "python",
   "nbconvert_exporter": "python",
   "pygments_lexer": "ipython3",
   "version": "3.7.3"
  }
 },
 "nbformat": 4,
 "nbformat_minor": 2
}
